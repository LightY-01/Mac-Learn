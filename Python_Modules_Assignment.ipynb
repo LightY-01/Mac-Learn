{
  "nbformat": 4,
  "nbformat_minor": 0,
  "metadata": {
    "colab": {
      "provenance": []
    },
    "kernelspec": {
      "name": "python3",
      "display_name": "Python 3"
    },
    "language_info": {
      "name": "python"
    }
  },
  "cells": [
    {
      "cell_type": "markdown",
      "source": [
        "# Numpy Implementation"
      ],
      "metadata": {
        "id": "nKMH5Y1T06vH"
      }
    },
    {
      "cell_type": "code",
      "execution_count": null,
      "metadata": {
        "colab": {
          "base_uri": "https://localhost:8080/"
        },
        "id": "MM8X0T-p06HB",
        "outputId": "2efcae3e-a5df-4484-b914-6e2135b1df7b"
      },
      "outputs": [
        {
          "output_type": "stream",
          "name": "stdout",
          "text": [
            "Passed\n"
          ]
        }
      ],
      "source": [
        "import numpy as np\n",
        "# Create a 2D Numpy array of size 1x3 with elements of your choice\n",
        "arr1=np.array([[1,2,3]])\n",
        "\n",
        "# Create a Numpy array of length 50 with zeroes as its elements\n",
        "arr2=np.zeros(50)\n",
        "\n",
        "#Create a Numpy array of length 3x2 with elements of your choice\n",
        "arr3=np.array([[1,2],[3,4],[5,6]])\n",
        "\n",
        "arr4=np.matmul(arr1,arr3)\n",
        "\n",
        "#Change 5th element of arr2 to a different number\n",
        "arr2[4] = 1\n",
        "\n",
        "if np.shape(arr4)==(1,2) and arr2[4]!=0:\n",
        "  print(\"Passed\")\n",
        "else:\n",
        "  print(\"Fail\")"
      ]
    },
    {
      "cell_type": "code",
      "source": [
        "import numpy as np\n",
        "\n",
        "#Task: Perform the dot product of I and 9I+1 using numpy, here I is referred to as an 3x3 Identity matrix.\n",
        "\n",
        "arr1 = np.identity(3)\n",
        "\n",
        "arr2 = (9 * arr1) + 1\n",
        "\n",
        "print(np.dot(arr1,arr2))\n"
      ],
      "metadata": {
        "id": "KNTXZFd13rgE",
        "colab": {
          "base_uri": "https://localhost:8080/"
        },
        "outputId": "a2e7ea8d-375b-48ea-deca-818f18ed2e52"
      },
      "execution_count": 1,
      "outputs": [
        {
          "output_type": "stream",
          "name": "stdout",
          "text": [
            "[[10.  1.  1.]\n",
            " [ 1. 10.  1.]\n",
            " [ 1.  1. 10.]]\n"
          ]
        }
      ]
    },
    {
      "cell_type": "markdown",
      "source": [
        "# Pandas Implementation"
      ],
      "metadata": {
        "id": "rRrOxN-6FXAb"
      }
    },
    {
      "cell_type": "code",
      "source": [
        "import pandas as pd\n",
        "\n",
        "# Create a DataFrame from a dictionary\n",
        "data = {\n",
        "    'Name': ['Ramesh', 'Mahesh', 'Suresh'],\n",
        "    'Age': [25, 30, 35],\n",
        "    'City': ['Bangalore', 'Mumbai', 'Delhi']\n",
        "}\n",
        "df = pd.DataFrame(data)\n",
        "#Display the first 2 rows of the data frame\n",
        "print(df.head(2))\n",
        "\n",
        "#Print the age column\n",
        "print(df[\"Age\"])\n",
        "\n",
        "#Filter rows where age is greater than 26\n",
        "tmp_df = df[df['Age'] > 26]\n",
        "print(tmp_df)\n",
        "\n",
        "#Add a new column 'Country' with the value 'India' for all rows\n",
        "country = 'India'\n",
        "df['Country'] = country\n",
        "\n",
        "data1 = {\n",
        "    'Name': ['Ramesh', 'Mahesh', 'Suresh'],\n",
        "    'Age': [25, None, 35],\n",
        "    'City': ['Bangalore', 'Mumbai', 'Delhi']\n",
        "}\n",
        "\n",
        "df2= pd.DataFrame(data1)\n",
        "\n",
        "# Fill missing values in the 'Age' column with the mean age\n",
        "tmp_df2 = df2.dropna(subset='Age')\n",
        "avg = tmp_df2['Age'].mean()\n",
        "df2['Age'].fillna(avg, inplace=True)"
      ],
      "metadata": {
        "id": "EaoIVtKIFenB",
        "colab": {
          "base_uri": "https://localhost:8080/"
        },
        "outputId": "871a6ac4-ad79-41b9-ce35-dcfb6a0b91a7"
      },
      "execution_count": 3,
      "outputs": [
        {
          "output_type": "stream",
          "name": "stdout",
          "text": [
            "     Name  Age       City\n",
            "0  Ramesh   25  Bangalore\n",
            "1  Mahesh   30     Mumbai\n",
            "0    25\n",
            "1    30\n",
            "2    35\n",
            "Name: Age, dtype: int64\n",
            "     Name  Age    City\n",
            "1  Mahesh   30  Mumbai\n",
            "2  Suresh   35   Delhi\n"
          ]
        }
      ]
    },
    {
      "cell_type": "markdown",
      "source": [
        "# Matplotlib Implementation"
      ],
      "metadata": {
        "id": "uay3H4C8cboE"
      }
    },
    {
      "cell_type": "code",
      "source": [
        "import matplotlib.pyplot as plt\n",
        "import numpy as np\n",
        "\n",
        "\n",
        "\n",
        "xpoints=np.array([1,2,3,4])\n",
        "ypoints=np.array([2,4,6,8])\n",
        "\n",
        "#Plot these points without drawing a line\n",
        "plt.plot(xpoints, ypoints, 'o')\n",
        "plt.show()\n",
        "\n",
        "#Plotting with marker: Plot these points with a marker(Star marker)\n",
        "plt.plot(xpoints, ypoints, '*')\n",
        "plt.show()\n",
        "\n",
        "#Using fmt format, add circular marker,red color and Dashed line\n",
        "plt.plot(xpoints, ypoints, 'o--r')\n",
        "\n",
        "#Add xlabel,ylabel and title for the plot.\n",
        "plt.xlabel('x-axis')\n",
        "plt.ylabel('y-axis')\n",
        "plt.title('Title')\n",
        "plt.show()\n",
        "\n",
        "#Create a scatter plot for xpoints and ypoints\n",
        "plot_4 = plt.scatter(xpoints, ypoints)\n",
        "\n",
        "#Set color to the scatter plot. Blue,Green,Red and yellow color for each point respectively\n",
        "colors=['blue', 'green', 'red', 'yellow']\n",
        "plot_4.set_color(colors)\n",
        "plt.show()"
      ],
      "metadata": {
        "colab": {
          "base_uri": "https://localhost:8080/",
          "height": 1000
        },
        "id": "i4lccqVxcgE_",
        "outputId": "4dd33964-8748-475f-9c59-a42ebf182924"
      },
      "execution_count": null,
      "outputs": [
        {
          "output_type": "display_data",
          "data": {
            "text/plain": [
              "<Figure size 640x480 with 1 Axes>"
            ],
            "image/png": "[encoded data removed]"
          },
          "metadata": {}
        },
        {
          "output_type": "display_data",
          "data": {
            "text/plain": [
              "<Figure size 640x480 with 1 Axes>"
            ],
            "image/png": "[encoded data removed]"
          },
          "metadata": {}
        },
        {
          "output_type": "display_data",
          "data": {
            "text/plain": [
              "<Figure size 640x480 with 1 Axes>"
            ],
            "image/png": "[encoded data removed]"
          },
          "metadata": {}
        },
        {
          "output_type": "display_data",
          "data": {
            "text/plain": [
              "<Figure size 640x480 with 1 Axes>"
            ],
            "image/png": "[encoded data removed]"
          },
          "metadata": {}
        }
      ]
    },
    {
      "cell_type": "markdown",
      "source": [
        "# Miscellaneous Modules Implementation"
      ],
      "metadata": {
        "id": "pfe2Fv2tgKq5"
      }
    },
    {
      "cell_type": "code",
      "source": [
        "import random\n",
        "import numpy as np\n",
        "\n",
        "#Set the seed of random to 20\n",
        "random.seed(20)\n",
        "\n",
        "arr1=np.array([1,24,31,45,73,81,94,25])\n",
        "\n",
        "#Using the random module pick 4 different random numbers from arr1 and return their sum.\n",
        "nums = random.sample(list(arr1), 4) #or nums = np.random.choice(arr1 , 4, replace=False)\n",
        "sum_of_nums = sum(nums)\n",
        "\n",
        "print(nums, sum_of_nums)"
      ],
      "metadata": {
        "id": "a_bTz2PlgRah",
        "colab": {
          "base_uri": "https://localhost:8080/"
        },
        "outputId": "24dc56bc-12d6-4e8a-bea5-a89d9cb8b63f"
      },
      "execution_count": null,
      "outputs": [
        {
          "output_type": "stream",
          "name": "stdout",
          "text": [
            "[31, 25, 81, 1] 138\n"
          ]
        }
      ]
    }
  ]
}