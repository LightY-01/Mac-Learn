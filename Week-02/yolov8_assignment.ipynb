{
  "nbformat": 4,
  "nbformat_minor": 0,
  "metadata": {
    "colab": {
      "provenance": [],
      "gpuType": "T4"
    },
    "kernelspec": {
      "name": "python3",
      "display_name": "Python 3"
    },
    "language_info": {
      "name": "python"
    },
    "accelerator": "GPU"
  },
  "cells": [
    {
      "cell_type": "code",
      "execution_count": null,
      "metadata": {
        "id": "ad8Hc4am0Pn3"
      },
      "outputs": [],
      "source": [
        "!pip install -U ultralytics"
      ]
    },
    {
      "cell_type": "code",
      "source": [
        "from ultralytics import YOLO\n",
        "import yaml\n",
        "import os\n",
        "import shutil\n",
        "import matplotlib.pyplot as plt\n",
        "import matplotlib.image as mpimg\n",
        "from google.colab import drive\n",
        "from google.colab import files\n",
        "drive.mount('/content/drive', force_remount = True)"
      ],
      "metadata": {
        "colab": {
          "base_uri": "https://localhost:8080/"
        },
        "id": "HaWYFeOn04uw",
        "outputId": "58e5935f-5f42-409a-ba49-8de9bf9065b6"
      },
      "execution_count": 27,
      "outputs": [
        {
          "output_type": "stream",
          "name": "stdout",
          "text": [
            "Mounted at /content/drive\n"
          ]
        }
      ]
    },
    {
      "cell_type": "code",
      "source": [
        "shortcut_path = '/content/drive/MyDrive/car'\n",
        "real_path = os.readlink(shortcut_path)\n",
        "source_path = real_path\n",
        "destination_path = '/content/car_data'\n",
        "\n",
        "if os.path.exists(destination_path):\n",
        "    shutil.rmtree(destination_path)\n",
        "\n",
        "shutil.copytree(source_path, destination_path)"
      ],
      "metadata": {
        "colab": {
          "base_uri": "https://localhost:8080/",
          "height": 35
        },
        "id": "9r4DRgqM0BTH",
        "outputId": "9a19e0b8-e834-4fd2-d346-e6398dc7af1c"
      },
      "execution_count": 28,
      "outputs": [
        {
          "output_type": "execute_result",
          "data": {
            "text/plain": [
              "'/content/car_data'"
            ],
            "application/vnd.google.colaboratory.intrinsic+json": {
              "type": "string"
            }
          },
          "metadata": {},
          "execution_count": 28
        }
      ]
    },
    {
      "cell_type": "code",
      "source": [
        "train_path = '/content/car_data/train/images'\n",
        "val_path = '/content/car_data/valid/images'\n",
        "test_path = '/content/car_data/test/images'\n",
        "data_yaml_path = '/content/car_data/data.yaml'"
      ],
      "metadata": {
        "id": "_828Sgca11fU"
      },
      "execution_count": 23,
      "outputs": []
    },
    {
      "cell_type": "code",
      "source": [
        "with open(data_yaml_path, 'r') as file:\n",
        "    data_config = yaml.safe_load(file)\n",
        "print(data_config)"
      ],
      "metadata": {
        "colab": {
          "base_uri": "https://localhost:8080/"
        },
        "id": "KP8MbHCZ21zq",
        "outputId": "02b3b91c-ce41-4b71-894a-c082d5d4f491"
      },
      "execution_count": 19,
      "outputs": [
        {
          "output_type": "stream",
          "name": "stdout",
          "text": [
            "{'train': '../train/images', 'val': '../valid/images', 'test': '../test/images', 'nc': 16, 'names': ['boot', 'car', 'door', 'front_bumper', 'front_grill', 'front_windshield', 'headlamp', 'hood', 'license_plate', 'panel', 'rear_bumper', 'rear_windshield', 'sideview_mirror', 'taillamp', 'wheel', 'window'], 'roboflow': {'workspace': 'ae-43fv6', 'project': 'body-parts-cq3al', 'version': 2, 'license': 'CC BY 4.0', 'url': 'https://universe.roboflow.com/ae-43fv6/body-parts-cq3al/dataset/2'}}\n"
          ]
        }
      ]
    },
    {
      "cell_type": "code",
      "source": [
        "model = YOLO('yolov8s.yaml')\n",
        "\n",
        "results = model.train(data=data_yaml_path, epochs=100, imgsz=640, batch=16, name='yolo_assignment', device='cuda:0', cache=False)\n",
        "\n",
        "metrics = results.metrics\n",
        "print(metrics)"
      ],
      "metadata": {
        "collapsed": true,
        "id": "6iYfi2cQ4IkF"
      },
      "execution_count": null,
      "outputs": []
    },
    {
      "cell_type": "code",
      "source": [
        "cm_image_path = 'runs/detect/yolo_assignment/confusion_matrix.png'\n",
        "img = mpimg.imread(cm_image_path)\n",
        "\n",
        "plt.figure(figsize=(10,10))\n",
        "plt.imshow(img)\n",
        "plt.title('Confusion Matrix')\n",
        "plt.axis('off')\n",
        "plt.show()\n",
        "\n",
        "results_image_path = 'runs/detect/yolo_assignment/results.png'\n",
        "results.save()\n",
        "\n",
        "files.download(cm_image_path)\n",
        "files.download(results_image_path)"
      ],
      "metadata": {
        "id": "nV1kykSD4Wgz"
      },
      "execution_count": null,
      "outputs": []
    }
  ]
}